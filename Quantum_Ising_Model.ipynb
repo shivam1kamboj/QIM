{
 "cells": [
  {
   "cell_type": "markdown",
   "id": "a4b95043",
   "metadata": {},
   "source": [
    "In textbook S. Sachdev[1] Quantum Ising model Hamiltonian is given by \n",
    "$$H_I=-J\\sum_i(g\\hat\\sigma_i^x+\\hat\\sigma_i^z\\hat\\sigma_{i+1}^z)$$\n",
    "\n",
    "\n",
    "Equation (10.14) transforms the Hamiltonian using Jordan Weigner transformation \n",
    "$$H_I=-J\\sum_i(c_i^\\dagger c_{i+1}+c_{i+1}^\\dagger c_{i}+c_i^\\dagger c_{i+1}^\\dagger+c_{i+1} c_{i}-2gc_i^\\dagger c_i+g)$$"
   ]
  },
  {
   "cell_type": "markdown",
   "id": "12edb47d",
   "metadata": {},
   "source": [
    "Using the following anticommutation relations:\n",
    "\n",
    "$$\\{c_\\alpha, c_\\beta\\} = \\{c_\\alpha^\\dagger, c_\\beta^\\dagger\\} = 0 $$\n",
    "\n",
    "$$\\{c_\\alpha, c_\\beta^\\dagger\\} = \\delta_{\\alpha\\beta} $$\n",
    "\n",
    "which implies $$c_\\alpha c_\\alpha = c_\\alpha^\\dagger c_\\alpha^\\dagger = 0 $$\n",
    "\n",
    "$$c_\\alpha c_\\beta\\ = -c_\\beta c_\\alpha\\$$\n",
    "\n",
    "$$c_\\alpha^\\dagger c_\\beta^\\dagger = -c_\\beta^\\dagger c_\\alpha^\\dagger$$\n",
    "\n",
    "$$c_\\alpha c_\\alpha^\\dagger = 1 - c_\\alpha^\\dagger c_\\alpha $$\n",
    "\n",
    "$$c_\\alpha c_\\beta^\\dagger = - c_\\beta^\\dagger c_\\alpha $$"
   ]
  },
  {
   "cell_type": "markdown",
   "id": "81d8b099",
   "metadata": {},
   "source": [
    "Using Heisenberg's equations of motion:\n",
    "\n",
    " $$-i\\frac{dc_i}{dt} =  [H_I,c_i]$$\n",
    "$$-i\\frac{dc_i}{dt}=(-J(c_i^\\dagger c_{i+1}+c_{i+1}^\\dagger c_{i}+c_i^\\dagger c_{i+1}^\\dagger+c_{i+1} c_{i}-2gc_i^\\dagger c_i+g))c_i - c_i(-J(c_i^\\dagger c_{i+1}+c_{i+1}^\\dagger c_{i}+c_i^\\dagger c_{i+1}^\\dagger+c_{i+1} c_{i}-2gc_i^\\dagger c_i+g ))$$              \n",
    "  $$-i\\frac{dc_i}{dt}=-J(c_i^\\dagger c_{i+1}c_i +c_{i+1}^\\dagger c_{i}c_i +c_i^\\dagger c_{i+1}^\\dagger c_i +c_{i+1} c_{i}c_i -2gc_i^\\dagger c_i c_i+gc_i) + J(c_i c_i^\\dagger c_{i+1}+c_i c_{i+1}^\\dagger c_{i}+c_i c_i^\\dagger c_{i+1}^\\dagger+c_i c_{i+1} c_{i}-c_i 2gc_i^\\dagger c_i+c_i g)$$             \n"
   ]
  },
  {
   "cell_type": "markdown",
   "id": "cfd2d060",
   "metadata": {},
   "source": [
    "$$\\frac{i}{J}\\frac{dc_i}{dt}=c_i^\\dagger c_{i+1}c_i + c_i^\\dagger c_{i+1}^\\dagger c_i - c_i c_i^\\dagger c_{i+1}-c_i c_i^\\dagger c_{i+1}^\\dagger+c_i 2g(1- c_i c_i^\\dagger)$$"
   ]
  },
  {
   "cell_type": "markdown",
   "id": "45c00fff",
   "metadata": {},
   "source": [
    "$$\\frac{i}{J}\\frac{dc_i}{dt}= - c_i^\\dagger c_i c_{i+1}- c_i^\\dagger c_i c_{i+1}^\\dagger  - c_i c_i^\\dagger c_{i+1}-c_i c_i^\\dagger c_{i+1}^\\dagger+c_i 2g(1- c_i c_i^\\dagger)$$"
   ]
  },
  {
   "cell_type": "markdown",
   "id": "749ae4a1",
   "metadata": {},
   "source": [
    "$$\\frac{i}{J}\\frac{dc_i}{dt}= - \\{c_i^\\dagger, c_i \\}c_{i+1}- \\{c_i^\\dagger, c_i\\} c_{i+1}^\\dagger+c_i 2g$$"
   ]
  },
  {
   "cell_type": "markdown",
   "id": "c1acb187",
   "metadata": {},
   "source": [
    "$$\\frac{i}{J}\\frac{dc_i}{dt}= - c_{i+1}- c_{i+1}^\\dagger+c_i 2g$$"
   ]
  },
  {
   "cell_type": "markdown",
   "id": "2a1cf63f",
   "metadata": {},
   "source": [
    "\n",
    " Now Let's calculate;\n",
    " $$-i\\frac{dc_i^\\dagger}{dt} =  [H_I,c_i^\\dagger]$$\n",
    "$$-i\\frac{dc_i}{dt}=(-J(c_i^\\dagger c_{i+1}+c_{i+1}^\\dagger c_{i}+c_i^\\dagger c_{i+1}^\\dagger+c_{i+1} c_{i}-2gc_i^\\dagger c_i+g))c_i^\\dagger - c_i^\\dagger(-J(c_i^\\dagger c_{i+1}+c_{i+1}^\\dagger c_{i}+c_i^\\dagger c_{i+1}^\\dagger+c_{i+1} c_{i}-2gc_i^\\dagger c_i))$$              \n",
    "  $$-i\\frac{dc_i}{dt}=-J(c_i^\\dagger c_{i+1}c_i^\\dagger +c_{i+1}^\\dagger c_{i}c_i^\\dagger +c_i^\\dagger c_{i+1}^\\dagger c_i^\\dagger +c_{i+1} c_{i}c_i^\\dagger -2gc_i^\\dagger c_i c_i^\\dagger+gc_i^\\dagger) + J(c_i^\\dagger c_i^\\dagger c_{i+1}+c_i^\\dagger c_{i+1}^\\dagger c_{i}+c_i^\\dagger c_i^\\dagger c_{i+1}^\\dagger+c_i^\\dagger c_{i+1} c_{i}-c_i^\\dagger 2gc_i^\\dagger c_i+c_i g)$$             \n"
   ]
  },
  {
   "cell_type": "markdown",
   "id": "71538480",
   "metadata": {},
   "source": [
    "$$\\frac{i}{J}\\frac{dc_i}{dt}=c_{i+1}^\\dagger c_{i}c_i^\\dagger + c_{i+1} c_ic_i^\\dagger  - c_i^\\dagger c_{i+1}^\\dagger c_i-c_i ^\\dagger c_{i+1}c_i-2g c_i^\\dagger c_i c_i$$"
   ]
  },
  {
   "cell_type": "markdown",
   "id": "fbdabeda",
   "metadata": {},
   "source": [
    "$$\\frac{i}{J}\\frac{dc_i^\\dagger}{dt} = c_{i+1}^\\dagger \\{c_i,c_i^\\dagger\\}+c_{i+1} \\{c_i,c_i^\\dagger\\}-2gc_i^\\dagger(1-c_i^\\dagger c_i)$$"
   ]
  },
  {
   "cell_type": "markdown",
   "id": "89e60986",
   "metadata": {},
   "source": [
    "$$\\frac{i}{J}\\frac{dc_i^\\dagger}{dt} = c_{i+1}^\\dagger +c_{i+1} -2gc_i^\\dagger$$"
   ]
  },
  {
   "cell_type": "markdown",
   "id": "760d7fa0",
   "metadata": {},
   "source": [
    "$$\\frac{i}{J}\\frac{d\\vec v}{dt} = M\\vec v $$\n",
    "\n",
    "\n",
    "\n",
    "where M is a matrix of coefficient of $c_i$ and $c_i^\\dagger$ and \n",
    "$$\\vec v = \\begin{pmatrix} c_i \\\\ c_i^\\dagger \\end{pmatrix}$$\n",
    "\n",
    "which can be written as;\n",
    "\n",
    "$$\\frac{1}{J}\\frac{d\\vec v}{dt} =  -i M\\vec v$$"
   ]
  },
  {
   "cell_type": "markdown",
   "id": "056439e7",
   "metadata": {},
   "source": [
    "## Now let's diagonalize this matrix M"
   ]
  },
  {
   "cell_type": "code",
   "execution_count": 1,
   "id": "9beed360",
   "metadata": {},
   "outputs": [],
   "source": [
    "# Because i index goes from 0 to N. Let's for simplicity first solve for N = 4\n",
    "import numpy as np\n",
    "import matplotlib.pyplot as plt"
   ]
  },
  {
   "cell_type": "markdown",
   "id": "f3c95d8c",
   "metadata": {},
   "source": [
    "## Starting with N = 4"
   ]
  },
  {
   "cell_type": "markdown",
   "id": "63c7b875",
   "metadata": {},
   "source": [
    "$$\\frac{i}{J}\\frac{dc_i}{dt}= - c_{i-1} - c_{i+1}+ 2g c_i $$\n",
    "$$\\frac{i}{J}\\frac{dc_i^\\dagger}{dt} =  -2gc_i^\\dagger + c_{i-1}^\\dagger + c_{i+1}^\\dagger$$"
   ]
  },
  {
   "cell_type": "markdown",
   "id": "7acddaa5",
   "metadata": {},
   "source": [
    "$$\\frac{i}{J}\\frac{d\\vec v}{dt} = M\\vec v$$\n",
    "\n",
    "$$\\frac{d\\vec v}{dt} = -i J M\\vec v$$"
   ]
  },
  {
   "cell_type": "code",
   "execution_count": 2,
   "id": "912c3c37",
   "metadata": {},
   "outputs": [],
   "source": [
    "# Defining matrix M\n",
    "\n",
    "def M_Matrix(g, N, J):\n",
    "    \n",
    "    M = np.zeros((2*N, 2*N+1))\n",
    "    \n",
    "    for i, c in enumerate(M[:N]):\n",
    "        \n",
    "        c[i]= 2*g\n",
    "    \n",
    "        c[i-1] = -1 if i > 0 else 0\n",
    "        c[i+1] = -1 if i < N-1 else 0\n",
    "    \n",
    "#         c[N+i-1] = 1 if i > 0 else 0     \n",
    "#         c[N+i+1] = 1 if i < N else 0\n",
    "    \n",
    "    \n",
    "    for i, c in enumerate(M[N:]):\n",
    "        \n",
    "        c[N+i]= -2*g\n",
    "    \n",
    "#         c[i-1] = 1 if i > 0 else 0\n",
    "#         c[i+1] = 1 if i < N-1 else 0\n",
    "    \n",
    "        c[N+i-1] = 1 if i > 0 else 0\n",
    "        c[N+i+1] = 1 if i < N-1 else 0\n",
    "    \n",
    "    \n",
    "    return J*M[:,:-1]"
   ]
  },
  {
   "cell_type": "code",
   "execution_count": 3,
   "id": "503a093d",
   "metadata": {},
   "outputs": [
    {
     "data": {
      "image/png": "[encoded data removed]",
      "text/plain": [
       "<Figure size 432x288 with 2 Axes>"
      ]
     },
     "metadata": {
      "needs_background": "light"
     },
     "output_type": "display_data"
    }
   ],
   "source": [
    "# Visualising matrix M\n",
    "\n",
    "plt.pcolormesh(M_Matrix(g = 0.3,N = 4, J = 1), edgecolors='k', linewidth=1)\n",
    "plt.title(f\"M-matrix for N =4\", fontsize = 20)\n",
    "ax = plt.gca()\n",
    "ax.set_aspect('equal')\n",
    "ax.invert_yaxis()\n",
    "plt.colorbar()\n",
    "plt.show()"
   ]
  },
  {
   "cell_type": "markdown",
   "id": "f2020219",
   "metadata": {},
   "source": [
    "## Checking matrix M for N = 10"
   ]
  },
  {
   "cell_type": "code",
   "execution_count": 4,
   "id": "c9e8d7b4",
   "metadata": {},
   "outputs": [
    {
     "data": {
      "image/png": "[encoded data removed]",
      "text/plain": [
       "<Figure size 432x288 with 2 Axes>"
      ]
     },
     "metadata": {
      "needs_background": "light"
     },
     "output_type": "display_data"
    }
   ],
   "source": [
    "\n",
    "M = M_Matrix(g = 0.3,N = 10, J = 1)\n",
    "\n",
    "plt.pcolormesh(M, edgecolors='k', linewidth=1)\n",
    "plt.title(f\"M-matrix for N =10\", fontsize = 20)\n",
    "ax = plt.gca()\n",
    "ax.set_aspect('equal')\n",
    "ax.invert_yaxis()\n",
    "plt.colorbar()\n",
    "plt.show()"
   ]
  },
  {
   "cell_type": "markdown",
   "id": "e2d55ad0",
   "metadata": {},
   "source": [
    "#  Diagonalizing matrix M to get matrix D"
   ]
  },
  {
   "cell_type": "code",
   "execution_count": 5,
   "id": "7f0f7d8e",
   "metadata": {},
   "outputs": [],
   "source": [
    "# Finding eigenvalues and eigenvectors of M\n",
    "\n",
    "Eigvals, Eigvecs = np.linalg.eigh(M)\n",
    "\n",
    "D = np.diag(Eigvals)"
   ]
  },
  {
   "cell_type": "markdown",
   "id": "a4693c77",
   "metadata": {},
   "source": [
    "## Visualising Diagonal Matrix D Real and Imaginary Part"
   ]
  },
  {
   "cell_type": "code",
   "execution_count": 6,
   "id": "58fdd62f",
   "metadata": {},
   "outputs": [
    {
     "data": {
      "image/png": "[encoded data removed]",
      "text/plain": [
       "<Figure size 1080x720 with 4 Axes>"
      ]
     },
     "metadata": {
      "needs_background": "light"
     },
     "output_type": "display_data"
    }
   ],
   "source": [
    "plt.figure(figsize=(15,10))\n",
    "plt.subplot(1,2,1)\n",
    "plt.title(f\"Real Part\", fontsize = 20)\n",
    "plt.pcolormesh(D.real, edgecolors='k', linewidth=1)\n",
    "ax = plt.gca()\n",
    "ax.set_aspect('equal')\n",
    "ax.invert_yaxis()\n",
    "plt.colorbar()\n",
    "\n",
    "\n",
    "plt.subplot(1,2,2)\n",
    "plt.title(f\"Imaginary Part\", fontsize = 20)\n",
    "plt.pcolormesh(D.imag, edgecolors='k', linewidth=1)\n",
    "ax = plt.gca()\n",
    "ax.set_aspect('equal')\n",
    "ax.invert_yaxis()\n",
    "plt.colorbar()\n",
    "\n",
    "plt.show()"
   ]
  },
  {
   "cell_type": "markdown",
   "id": "afba48e7",
   "metadata": {},
   "source": [
    "# Verifying $M=uDu^\\dagger$"
   ]
  },
  {
   "cell_type": "code",
   "execution_count": 7,
   "id": "5dd36a44",
   "metadata": {},
   "outputs": [],
   "source": [
    "# Now defining u and u_dagger\n",
    "\n",
    "u = Eigvecs\n",
    "\n",
    "u_dagger = np.linalg.inv(Eigvecs)"
   ]
  },
  {
   "cell_type": "code",
   "execution_count": 8,
   "id": "27b591f9",
   "metadata": {},
   "outputs": [
    {
     "data": {
      "text/plain": [
       "True"
      ]
     },
     "execution_count": 8,
     "metadata": {},
     "output_type": "execute_result"
    }
   ],
   "source": [
    "(M == np.around(( u @ D @ u_dagger), decimals=1)).all()"
   ]
  },
  {
   "cell_type": "code",
   "execution_count": 9,
   "id": "9578a680",
   "metadata": {},
   "outputs": [
    {
     "data": {
      "image/png": "[encoded data removed]",
      "text/plain": [
       "<Figure size 1080x720 with 4 Axes>"
      ]
     },
     "metadata": {
      "needs_background": "light"
     },
     "output_type": "display_data"
    }
   ],
   "source": [
    "plt.figure(figsize=(15,10))\n",
    "plt.subplot(1,2,1)\n",
    "plt.title(f\"M\", fontsize = 20)\n",
    "plt.pcolormesh(M_Matrix(g = 0.3,N = 10, J = 1), edgecolors='k', linewidth=1)\n",
    "ax = plt.gca()\n",
    "ax.set_aspect('equal')\n",
    "ax.invert_yaxis()\n",
    "plt.colorbar()\n",
    "\n",
    "plt.subplot(1,2,2)\n",
    "plt.title(f\"$uDu^\\dagger$\", fontsize = 20)\n",
    "plt.pcolormesh(np.around(( u @ D @ u_dagger), decimals=1).real, edgecolors='k', linewidth=1)\n",
    "ax = plt.gca()\n",
    "ax.set_aspect('equal')\n",
    "ax.invert_yaxis()\n",
    "plt.colorbar()\n",
    "plt.show()"
   ]
  },
  {
   "cell_type": "markdown",
   "id": "588de02d",
   "metadata": {},
   "source": [
    "Now as we know, \n",
    "\n",
    "$$\\frac{d\\vec v}{dt} = -i J M\\vec v$$\n",
    "\n",
    "Using ,\n",
    "\n",
    "$$M = u^\\dagger D u $$\n",
    "\n",
    "$$\\frac{d\\vec v}{dt} = -iu^\\dagger D u \\vec v$$ \n",
    " \n",
    " $$\\frac{d(u^\\dagger\\vec v)}{dt} = -iJu^\\dagger u D u^\\dagger \\vec v$$\n",
    " \n",
    " $$ \\frac{d\\vec v'}{dt} = -iJ D \\vec v' $$\n",
    " \n",
    " where $$\\vec v'= u^\\dagger\\vec v$$"
   ]
  },
  {
   "cell_type": "markdown",
   "id": "03a7df64",
   "metadata": {},
   "source": [
    "## Question? \n",
    "\n",
    "##  I have $u$ and $u^\\dagger$ how to proceed next part, what are coefficient m_i in the following expression?\n",
    "\n",
    "## Now, $$H=\\sum_i m_id_i^\\dagger d_i$$\n",
    "\n",
    "## which implies $$\\frac{dd_1}{dt} = -i m_1 d_1$$\n",
    "\n",
    "## $$d_1 = e^{-im_1t}d_1(0)$$"
   ]
  },
  {
   "cell_type": "code",
   "execution_count": 10,
   "id": "9df17c93",
   "metadata": {},
   "outputs": [
    {
     "data": {
      "image/png": "[encoded data removed]",
      "text/plain": [
       "<Figure size 432x288 with 1 Axes>"
      ]
     },
     "metadata": {
      "needs_background": "light"
     },
     "output_type": "display_data"
    }
   ],
   "source": [
    "plt.scatter(np.linspace(1,20,20),Eigvals)\n",
    "plt.xlabel('Eigenvalue index ($E_i$)',fontsize=15)\n",
    "plt.ylabel('E [arb. units]',fontsize=15)\n",
    "plt.title('QIM Energy Spectrum', fontsize=20);"
   ]
  },
  {
   "cell_type": "code",
   "execution_count": null,
   "id": "9e24eeaf",
   "metadata": {},
   "outputs": [],
   "source": []
  }
 ],
 "metadata": {
  "kernelspec": {
   "display_name": "Python 3 (ipykernel)",
   "language": "python",
   "name": "python3"
  },
  "language_info": {
   "codemirror_mode": {
    "name": "ipython",
    "version": 3
   },
   "file_extension": ".py",
   "mimetype": "text/x-python",
   "name": "python",
   "nbconvert_exporter": "python",
   "pygments_lexer": "ipython3",
   "version": "3.9.12"
  }
 },
 "nbformat": 4,
 "nbformat_minor": 5
}
