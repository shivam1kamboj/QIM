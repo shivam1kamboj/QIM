{
 "cells": [
  {
   "cell_type": "markdown",
   "metadata": {
    "datalore": {
     "hide_input_from_viewers": false,
     "hide_output_from_viewers": false,
     "node_id": "1LWWyqfZE4VWkebROg0qt3",
     "report_properties": {},
     "type": "MD"
    }
   },
   "source": [
    "In textbook S. Sachdev[1] Quantum Ising model Hamiltonian is given by \n",
    "$$H_I=-J\\sum_i(g\\hat\\sigma_i^x+\\hat\\sigma_i^z\\hat\\sigma_{i+1}^z)$$\n",
    "\n",
    "\n",
    "Equation (10.14) transforms the Hamiltonian using Jordan Weigner transformation \n",
    "$$H_I=-J\\sum_i(c_i^\\dagger c_{i+1}+c_{i+1}^\\dagger c_{i}+c_i^\\dagger c_{i+1}^\\dagger+c_{i+1} c_{i}-2gc_i^\\dagger c_i+g)$$"
   ]
  },
  {
   "cell_type": "markdown",
   "metadata": {
    "datalore": {
     "hide_input_from_viewers": false,
     "hide_output_from_viewers": false,
     "node_id": "ujnHzlxLVtPzVIPNcbPVV2",
     "report_properties": {},
     "type": "MD"
    }
   },
   "source": [
    "Using the following anticommutation relations:\n",
    "\n",
    "$$\\{c_\\alpha, c_\\beta\\} = \\{c_\\alpha^\\dagger, c_\\beta^\\dagger\\} = 0 $$\n",
    "\n",
    "$$\\{c_\\alpha, c_\\beta^\\dagger\\} = \\delta_{\\alpha\\beta} $$\n",
    "\n",
    "which implies $$c_\\alpha c_\\alpha = c_\\alpha^\\dagger c_\\alpha^\\dagger = 0 $$\n",
    "\n",
    "\\begin{equation}c_\\alpha c_\\beta\\ = -c_\\beta c_\\alpha\\end{equation}\n",
    "\n",
    "\n",
    "\\begin{equation}c_\\alpha^\\dagger c_\\beta^\\dagger = -c_\\beta^\\dagger c_\\alpha^\\dagger \\end{equation}\n",
    "\n",
    "\n",
    " $$c_\\alpha c_\\alpha^\\dagger = 1 - c_\\alpha^\\dagger c_\\alpha $$\n",
    "\n",
    "\n",
    " $$c_\\alpha c_\\beta^\\dagger = -c_\\beta^\\dagger c_\\alpha $$"
   ]
  },
  {
   "cell_type": "markdown",
   "metadata": {
    "datalore": {
     "hide_input_from_viewers": false,
     "hide_output_from_viewers": false,
     "node_id": "h5Q7yRALNfQeYk1rfkyGfa",
     "report_properties": {},
     "type": "MD"
    }
   },
   "source": [
    "Using Heisenberg's equations of motion:\n",
    "\n",
    " $$-i\\frac{dc_i}{dt} =  [H_I,c_i]$$\n",
    "$$-i\\frac{dc_i}{dt}=(-J(c_i^\\dagger c_{i+1}+c_{i+1}^\\dagger c_{i}+c_i^\\dagger c_{i+1}^\\dagger+c_{i+1} c_{i}-2gc_i^\\dagger c_i+g))c_i - c_i(-J(c_i^\\dagger c_{i+1}+c_{i+1}^\\dagger c_{i}+c_i^\\dagger c_{i+1}^\\dagger+c_{i+1} c_{i}-2gc_i^\\dagger c_i+g ))$$              \n",
    "  $$-i\\frac{dc_i}{dt}=-J(c_i^\\dagger c_{i+1}c_i +c_{i+1}^\\dagger c_{i}c_i +c_i^\\dagger c_{i+1}^\\dagger c_i +c_{i+1} c_{i}c_i -2gc_i^\\dagger c_i c_i+gc_i) + J(c_i c_i^\\dagger c_{i+1}+c_i c_{i+1}^\\dagger c_{i}+c_i c_i^\\dagger c_{i+1}^\\dagger+c_i c_{i+1} c_{i}-c_i 2gc_i^\\dagger c_i+c_i g)$$             "
   ]
  },
  {
   "cell_type": "markdown",
   "metadata": {
    "datalore": {
     "hide_input_from_viewers": false,
     "hide_output_from_viewers": false,
     "node_id": "KeG8lASFC8aKZbE6kTKMzs",
     "report_properties": {},
     "type": "MD"
    }
   },
   "source": [
    "$$\\frac{i}{J}\\frac{dc_i}{dt}=c_i^\\dagger c_{i+1}c_i + c_i^\\dagger c_{i+1}^\\dagger c_i - c_i c_i^\\dagger c_{i+1}-c_i c_i^\\dagger c_{i+1}^\\dagger+c_i 2g(1- c_i c_i^\\dagger)$$"
   ]
  },
  {
   "cell_type": "markdown",
   "metadata": {
    "datalore": {
     "hide_input_from_viewers": false,
     "hide_output_from_viewers": false,
     "node_id": "Y7Agv6AeF14Jla7N6XUcBG",
     "report_properties": {},
     "type": "MD"
    }
   },
   "source": [
    "$$\\frac{i}{J}\\frac{dc_i}{dt}= - c_i^\\dagger c_i c_{i+1}- c_i^\\dagger c_i c_{i+1}^\\dagger  - c_i c_i^\\dagger c_{i+1}-c_i c_i^\\dagger c_{i+1}^\\dagger+c_i 2g(1- c_i c_i^\\dagger)$$"
   ]
  },
  {
   "cell_type": "markdown",
   "metadata": {
    "datalore": {
     "hide_input_from_viewers": false,
     "hide_output_from_viewers": false,
     "node_id": "Jrae4HWXFLhjrfI8Edzx3g",
     "report_properties": {},
     "type": "MD"
    }
   },
   "source": [
    "$$\\frac{i}{J}\\frac{dc_i}{dt}= - \\{c_i^\\dagger, c_i \\}c_{i+1}- \\{c_i^\\dagger, c_i\\} c_{i+1}^\\dagger+c_i 2g$$"
   ]
  },
  {
   "cell_type": "markdown",
   "metadata": {
    "datalore": {
     "hide_input_from_viewers": false,
     "hide_output_from_viewers": false,
     "node_id": "sWXebrC0ifQag3LDlNdktJ",
     "report_properties": {},
     "type": "MD"
    }
   },
   "source": [
    "$$\\frac{i}{J}\\frac{dc_i}{dt}= - c_{i+1}- c_{i+1}^\\dagger+c_i 2g$$"
   ]
  },
  {
   "cell_type": "markdown",
   "metadata": {
    "datalore": {
     "hide_input_from_viewers": false,
     "hide_output_from_viewers": false,
     "node_id": "bFLzyK0ZOdiEidFjEun4fH",
     "report_properties": {},
     "type": "MD"
    }
   },
   "source": [
    "\n",
    " Now Let's calculate;\n",
    " $$-i\\frac{dc_i^\\dagger}{dt} =  [H_I,c_i^\\dagger]$$\n",
    "$$-i\\frac{dc_i}{dt}=(-J(c_i^\\dagger c_{i+1}+c_{i+1}^\\dagger c_{i}+c_i^\\dagger c_{i+1}^\\dagger+c_{i+1} c_{i}-2gc_i^\\dagger c_i+g))c_i^\\dagger - c_i^\\dagger(-J(c_i^\\dagger c_{i+1}+c_{i+1}^\\dagger c_{i}+c_i^\\dagger c_{i+1}^\\dagger+c_{i+1} c_{i}-2gc_i^\\dagger c_i))$$              \n",
    "  $$-i\\frac{dc_i}{dt}=-J(c_i^\\dagger c_{i+1}c_i^\\dagger +c_{i+1}^\\dagger c_{i}c_i^\\dagger +c_i^\\dagger c_{i+1}^\\dagger c_i^\\dagger +c_{i+1} c_{i}c_i^\\dagger -2gc_i^\\dagger c_i c_i^\\dagger+gc_i^\\dagger) + J(c_i^\\dagger c_i^\\dagger c_{i+1}+c_i^\\dagger c_{i+1}^\\dagger c_{i}+c_i^\\dagger c_i^\\dagger c_{i+1}^\\dagger+c_i^\\dagger c_{i+1} c_{i}-c_i^\\dagger 2gc_i^\\dagger c_i+c_i g)$$             "
   ]
  },
  {
   "cell_type": "markdown",
   "metadata": {
    "datalore": {
     "hide_input_from_viewers": false,
     "hide_output_from_viewers": false,
     "node_id": "87aoPwDeCCjRbnhv6ZgzWI",
     "report_properties": {},
     "type": "MD"
    }
   },
   "source": [
    "$$\\frac{i}{J}\\frac{dc_i}{dt}=c_{i+1}^\\dagger c_{i}c_i^\\dagger + c_{i+1} c_ic_i^\\dagger  - c_i^\\dagger c_{i+1}^\\dagger c_i-c_i ^\\dagger c_{i+1}c_i-2g c_i^\\dagger c_i c_i$$"
   ]
  },
  {
   "cell_type": "markdown",
   "metadata": {
    "datalore": {
     "hide_input_from_viewers": false,
     "hide_output_from_viewers": false,
     "node_id": "znaOrUbcLR7fWk87VeazMn",
     "report_properties": {},
     "type": "MD"
    }
   },
   "source": [
    "$$\\frac{i}{J}\\frac{dc_i^\\dagger}{dt} = c_{i+1}^\\dagger \\{c_i,c_i^\\dagger\\}+c_{i+1} \\{c_i,c_i^\\dagger\\}-2gc_i^\\dagger(1-c_i^\\dagger c_i)$$"
   ]
  },
  {
   "cell_type": "markdown",
   "metadata": {
    "datalore": {
     "hide_input_from_viewers": false,
     "hide_output_from_viewers": false,
     "node_id": "SIghBvBL39rBxz62zEX6LP",
     "report_properties": {},
     "type": "MD"
    }
   },
   "source": [
    "$$\\frac{i}{J}\\frac{dc_i^\\dagger}{dt} = c_{i+1}^\\dagger +c_{i+1} -2gc_i^\\dagger$$"
   ]
  },
  {
   "cell_type": "markdown",
   "metadata": {
    "datalore": {
     "hide_input_from_viewers": false,
     "hide_output_from_viewers": false,
     "node_id": "TRZkihkdNJxlU1K5JPWMMj",
     "report_properties": {},
     "type": "MD"
    }
   },
   "source": [
    "$$\\frac{i}{J}\\frac{d\\vec v}{dt} = M\\vec v $$\n",
    "\n",
    "\n",
    "\n",
    "where M is a matrix of coefficient of $c_i$ and $c_i^\\dagger$ and \n",
    "$$\\vec v = \\begin{pmatrix} c_i \\\\ c_i^\\dagger \\end{pmatrix}$$\n",
    "\n",
    "which can be written as;\n",
    "\n",
    "$$\\frac{1}{J}\\frac{d\\vec v}{dt} =  -i M\\vec v$$"
   ]
  },
  {
   "cell_type": "markdown",
   "metadata": {
    "datalore": {
     "hide_input_from_viewers": false,
     "hide_output_from_viewers": false,
     "node_id": "vvbR12HTj1L1ALj58aQP3C",
     "report_properties": {},
     "type": "MD"
    }
   },
   "source": [
    "## Now let's diagonalize this matrix M"
   ]
  },
  {
   "cell_type": "code",
   "execution_count": null,
   "metadata": {
    "datalore": {
     "hide_input_from_viewers": false,
     "hide_output_from_viewers": false,
     "node_id": "KyCwpg7xHm5sTwTD5YBpwM",
     "report_properties": {},
     "type": "CODE"
    }
   },
   "outputs": [],
   "source": [
    "# Because i index goes from 0 to N. Let's for simplicity first solve for N = 4\n",
    "import numpy as np\n",
    "import matplotlib.pyplot as plt"
   ]
  },
  {
   "cell_type": "markdown",
   "metadata": {
    "datalore": {
     "hide_input_from_viewers": false,
     "hide_output_from_viewers": false,
     "node_id": "55NcFiYt5OQwgz33K0ahWT",
     "report_properties": {},
     "type": "MD"
    }
   },
   "source": [
    "## Starting with N = 4"
   ]
  },
  {
   "cell_type": "markdown",
   "metadata": {
    "datalore": {
     "hide_input_from_viewers": false,
     "hide_output_from_viewers": false,
     "node_id": "AYpzjAvotXw6EjfkYjbkdA",
     "report_properties": {},
     "type": "MD"
    }
   },
   "source": [
    "$$\\frac{i}{J}\\frac{dc_i}{dt}= - c_{i-1} - c_{i+1}+ 2g c_i - c_{i-1}^\\dagger - c_{i+1}^\\dagger$$\n",
    "$$\\frac{i}{J}\\frac{dc_i^\\dagger}{dt} = c_{i-1} +c_{i+1} -2gc_i^\\dagger + c_{i-1}^\\dagger + c_{i+1}^\\dagger$$"
   ]
  },
  {
   "cell_type": "markdown",
   "metadata": {
    "datalore": {
     "hide_input_from_viewers": false,
     "hide_output_from_viewers": false,
     "node_id": "bmPUCWUjhg84h5WnN0QfTB",
     "report_properties": {},
     "type": "MD"
    }
   },
   "source": [
    "$$\\frac{i}{J}\\frac{d\\vec v}{dt} = M\\vec v$$\n",
    "\n",
    "$$\\frac{d\\vec v}{dt} = -i J M\\vec v$$"
   ]
  },
  {
   "cell_type": "code",
   "execution_count": null,
   "metadata": {
    "datalore": {
     "hide_input_from_viewers": false,
     "hide_output_from_viewers": false,
     "node_id": "mRSLC2DzMg75r1ACo760mi",
     "report_properties": {},
     "type": "CODE"
    }
   },
   "outputs": [],
   "source": [
    "# Defining matrix M\n",
    "\n",
    "def M_Matrix(g, N, J):\n",
    "    \n",
    "    M = np.zeros((2*N, 2*N+1))\n",
    "    \n",
    "    for i, c in enumerate(M[:N]):\n",
    "        \n",
    "        c[i]= 2*g\n",
    "    \n",
    "        c[i-1] = -1 if i > 0 else 0\n",
    "        c[i+1] = -1 if i < N-1 else 0\n",
    "    \n",
    "        c[N+i-1] = 1 if i > 0 else 0\n",
    "        c[N+i+1] = 1 if i < N else 0\n",
    "    \n",
    "    \n",
    "    for i, c in enumerate(M[N:]):\n",
    "        \n",
    "        c[N+i]= -2*g\n",
    "    \n",
    "        c[i-1] = 1 if i > 0 else 0\n",
    "        c[i+1] = 1 if i < N-1 else 0\n",
    "    \n",
    "        c[N+i-1] = 1 if i > 0 else 0\n",
    "        c[N+i+1] = 1 if i < N-1 else 0\n",
    "    \n",
    "    \n",
    "    return J*M[:,:-1]"
   ]
  },
  {
   "cell_type": "code",
   "execution_count": null,
   "metadata": {
    "datalore": {
     "hide_input_from_viewers": false,
     "hide_output_from_viewers": false,
     "node_id": "XIJtvFCvFJUfhGztrUVBM7",
     "report_properties": {},
     "type": "CODE"
    }
   },
   "outputs": [
    {
     "data": {
      "image/png": "[encoded data removed]"
     },
     "metadata": {
      "image/png": {}
     },
     "output_type": "display_data"
    },
    {
     "data": {
      "text/plain": [
       "<Figure size 432x288 with 2 Axes>"
      ]
     },
     "metadata": {},
     "output_type": "display_data"
    }
   ],
   "source": [
    "# Visualising matrix M\n",
    "\n",
    "plt.pcolormesh(M_Matrix(g = 0.3,N = 4, J = 1), edgecolors='k', linewidth=1)\n",
    "plt.title(f\"M-matrix for N =4\", fontsize = 20)\n",
    "ax = plt.gca()\n",
    "ax.set_aspect('equal')\n",
    "ax.invert_yaxis()\n",
    "plt.colorbar()\n",
    "plt.show()"
   ]
  },
  {
   "cell_type": "markdown",
   "metadata": {
    "datalore": {
     "hide_input_from_viewers": false,
     "hide_output_from_viewers": false,
     "node_id": "HeDAjBgZtFUU8ihWLnX9JG",
     "report_properties": {},
     "type": "MD"
    }
   },
   "source": [
    "## Checking matrix M for N = 10"
   ]
  },
  {
   "cell_type": "code",
   "execution_count": null,
   "metadata": {
    "datalore": {
     "hide_input_from_viewers": false,
     "hide_output_from_viewers": false,
     "node_id": "MX2QiX4sgkV4vX288cLs4M",
     "report_properties": {},
     "type": "CODE"
    }
   },
   "outputs": [
    {
     "data": {
      "image/png": "[encoded data removed]"
     },
     "metadata": {
      "image/png": {}
     },
     "output_type": "display_data"
    },
    {
     "data": {
      "text/plain": [
       "<Figure size 432x288 with 2 Axes>"
      ]
     },
     "metadata": {},
     "output_type": "display_data"
    }
   ],
   "source": [
    "\n",
    "M = M_Matrix(g = 0.3,N = 10, J = 1)\n",
    "\n",
    "plt.pcolormesh(M, edgecolors='k', linewidth=1)\n",
    "plt.title(f\"M-matrix for N =10\", fontsize = 20)\n",
    "ax = plt.gca()\n",
    "ax.set_aspect('equal')\n",
    "ax.invert_yaxis()\n",
    "plt.colorbar()\n",
    "plt.show()"
   ]
  },
  {
   "cell_type": "markdown",
   "metadata": {
    "datalore": {
     "hide_input_from_viewers": false,
     "hide_output_from_viewers": false,
     "node_id": "GYCc1WtFg1TvNftvOMEer4",
     "report_properties": {},
     "type": "MD"
    }
   },
   "source": [
    "#  Diagonalizing matrix M to get matrix D"
   ]
  },
  {
   "cell_type": "code",
   "execution_count": null,
   "metadata": {
    "datalore": {
     "hide_input_from_viewers": false,
     "hide_output_from_viewers": false,
     "node_id": "ZUfZbjkdLel25OJpxyDe5s",
     "report_properties": {},
     "type": "CODE"
    }
   },
   "outputs": [],
   "source": [
    "# Finding eigenvalues and eigenvectors of M\n",
    "\n",
    "Eigvals, Eigvecs = np.linalg.eigh(M)\n",
    "\n",
    "D = np.diag(Eigvals)"
   ]
  },
  {
   "cell_type": "markdown",
   "metadata": {
    "datalore": {
     "hide_input_from_viewers": false,
     "hide_output_from_viewers": false,
     "node_id": "wKcHPTN6zaDOiFCMozOGJI",
     "report_properties": {},
     "type": "MD"
    }
   },
   "source": [
    "## Visualising Diagonal Matrix D Real and Imaginary Part"
   ]
  },
  {
   "cell_type": "code",
   "execution_count": null,
   "metadata": {
    "datalore": {
     "hide_input_from_viewers": false,
     "hide_output_from_viewers": false,
     "node_id": "caoSFj0LzVUtGE06TAycuS",
     "report_properties": {},
     "type": "CODE"
    }
   },
   "outputs": [
    {
     "data": {
      "image/png": "[encoded data removed]"
     },
     "metadata": {
      "image/png": {}
     },
     "output_type": "display_data"
    },
    {
     "data": {
      "text/plain": [
       "<Figure size 1080x720 with 4 Axes>"
      ]
     },
     "metadata": {},
     "output_type": "display_data"
    }
   ],
   "source": [
    "plt.figure(figsize=(15,10))\n",
    "plt.subplot(1,2,1)\n",
    "plt.title(f\"Real Part\", fontsize = 20)\n",
    "plt.pcolormesh(D.real, edgecolors='k', linewidth=1)\n",
    "ax = plt.gca()\n",
    "ax.set_aspect('equal')\n",
    "ax.invert_yaxis()\n",
    "plt.colorbar()\n",
    "\n",
    "\n",
    "plt.subplot(1,2,2)\n",
    "plt.title(f\"Imaginary Part\", fontsize = 20)\n",
    "plt.pcolormesh(D.imag, edgecolors='k', linewidth=1)\n",
    "ax = plt.gca()\n",
    "ax.set_aspect('equal')\n",
    "ax.invert_yaxis()\n",
    "plt.colorbar()\n",
    "\n",
    "plt.show()"
   ]
  },
  {
   "cell_type": "markdown",
   "metadata": {
    "datalore": {
     "hide_input_from_viewers": false,
     "hide_output_from_viewers": false,
     "node_id": "W4hC6B4idclTpTzNTlkbdG",
     "report_properties": {},
     "type": "MD"
    }
   },
   "source": [
    "# Verifying $M=uDu^\\dagger$"
   ]
  },
  {
   "cell_type": "code",
   "execution_count": null,
   "metadata": {
    "datalore": {
     "hide_input_from_viewers": false,
     "hide_output_from_viewers": false,
     "node_id": "4vz1O94c8BM5b0a2rSMHDm",
     "report_properties": {},
     "type": "CODE"
    }
   },
   "outputs": [],
   "source": [
    "# Now defining u and u_dagger\n",
    "\n",
    "u = Eigvecs\n",
    "\n",
    "u_dagger = np.linalg.inv(Eigvecs)"
   ]
  },
  {
   "cell_type": "code",
   "execution_count": null,
   "metadata": {
    "datalore": {
     "hide_input_from_viewers": false,
     "hide_output_from_viewers": false,
     "node_id": "EfTFIxPgv9ImJMto4BgYky",
     "report_properties": {},
     "type": "CODE"
    }
   },
   "outputs": [
    {
     "data": {
      "text/plain": [
       "True"
      ]
     },
     "metadata": {},
     "output_type": "display_data"
    }
   ],
   "source": [
    "(M == np.around(( u @ D @ u_dagger), decimals=1)).all()"
   ]
  },
  {
   "cell_type": "code",
   "execution_count": null,
   "metadata": {
    "datalore": {
     "hide_input_from_viewers": false,
     "hide_output_from_viewers": false,
     "node_id": "XT2cMr9bamGvsTMWxOFreW",
     "report_properties": {},
     "type": "CODE"
    }
   },
   "outputs": [
    {
     "data": {
      "image/png": "[encoded data removed]"
     },
     "metadata": {
      "image/png": {}
     },
     "output_type": "display_data"
    },
    {
     "data": {
      "text/plain": [
       "<Figure size 1080x720 with 4 Axes>"
      ]
     },
     "metadata": {},
     "output_type": "display_data"
    }
   ],
   "source": [
    "plt.figure(figsize=(15,10))\n",
    "plt.subplot(1,2,1)\n",
    "plt.title(f\"M\", fontsize = 20)\n",
    "plt.pcolormesh(M_Matrix(g = 0.3,N = 10, J = 1), edgecolors='k', linewidth=1)\n",
    "ax = plt.gca()\n",
    "ax.set_aspect('equal')\n",
    "ax.invert_yaxis()\n",
    "plt.colorbar()\n",
    "\n",
    "plt.subplot(1,2,2)\n",
    "plt.title(f\"$uDu^\\dagger$\", fontsize = 20)\n",
    "plt.pcolormesh(np.around(( u @ D @ u_dagger), decimals=1).real, edgecolors='k', linewidth=1)\n",
    "ax = plt.gca()\n",
    "ax.set_aspect('equal')\n",
    "ax.invert_yaxis()\n",
    "plt.colorbar()\n",
    "plt.show()"
   ]
  },
  {
   "cell_type": "markdown",
   "metadata": {
    "datalore": {
     "hide_input_from_viewers": false,
     "hide_output_from_viewers": false,
     "node_id": "541nhlkX3p2koD9225RSBk",
     "report_properties": {},
     "type": "MD"
    }
   },
   "source": [
    "Now as we know, \n",
    "\n",
    "$$\\frac{d\\vec v}{dt} = -i J M\\vec v$$\n",
    "\n",
    "Using ,\n",
    "\n",
    "$$M = u^\\dagger D u $$\n",
    "\n",
    "$$\\frac{d\\vec v}{dt} = -iu^\\dagger D u \\vec v$$ \n",
    " \n",
    " $$\\frac{d(u^\\dagger\\vec v)}{dt} = -iJu^\\dagger u D u^\\dagger \\vec v$$\n",
    " \n",
    " $$ \\frac{d\\vec v'}{dt} = -iJ D \\vec v' $$\n",
    " \n",
    " where $$\\vec v'= u^\\dagger\\vec v$$"
   ]
  },
  {
   "cell_type": "markdown",
   "metadata": {
    "datalore": {
     "hide_input_from_viewers": false,
     "hide_output_from_viewers": false,
     "node_id": "2aELdCUoCTGb84IwtlXdxP",
     "report_properties": {},
     "type": "MD"
    }
   },
   "source": [
    "## Question? \n",
    "\n",
    "##  I have $u$ and $u^\\dagger$ how to proceed next part, what are coefficient m_i in the following expression?\n",
    "\n",
    "## Now, $$H=\\sum_i m_id_i^\\dagger d_i$$\n",
    "\n",
    "## which implies $$\\frac{dd_1}{dt} = -i m_1 d_1$$\n",
    "\n",
    "## $$d_1 = e^{-im_1t}d_1(0)$$"
   ]
  },
  {
   "cell_type": "code",
   "execution_count": null,
   "metadata": {
    "datalore": {
     "hide_input_from_viewers": false,
     "hide_output_from_viewers": false,
     "node_id": "e0IVXsubwDG2oobHy4bfUa",
     "report_properties": {},
     "type": "CODE"
    }
   },
   "outputs": [
    {
     "data": {
      "image/png": "[encoded data removed]"
     },
     "metadata": {
      "image/png": {}
     },
     "output_type": "display_data"
    },
    {
     "data": {
      "text/plain": [
       "<Figure size 432x288 with 1 Axes>"
      ]
     },
     "metadata": {},
     "output_type": "display_data"
    }
   ],
   "source": [
    "plt.scatter(np.linspace(1,20,20),Eigvals)\n",
    "plt.xlabel('Eigenvalue index ($E_i$)',fontsize=15)\n",
    "plt.ylabel('E [arb. units]',fontsize=15)\n",
    "plt.title('QIM Energy Spectrum', fontsize=20);"
   ]
  },
  {
   "cell_type": "code",
   "execution_count": null,
   "metadata": {
    "datalore": {
     "hide_input_from_viewers": false,
     "hide_output_from_viewers": false,
     "node_id": "0gf3zPocc2lsFDrzDGnfh8",
     "report_properties": {},
     "type": "CODE"
    }
   },
   "outputs": [],
   "source": []
  }
 ],
 "metadata": {
  "datalore": {
   "base_environment": "default",
   "computation_mode": "JUPYTER",
   "package_manager": "pip",
   "packages": [],
   "version": 1
  },
  "kernelspec": {
   "display_name": "Python 3 (ipykernel)",
   "language": "python",
   "name": "python3"
  },
  "language_info": {
   "codemirror_mode": {
    "name": "ipython",
    "version": 3
   },
   "file_extension": ".py",
   "mimetype": "text/x-python",
   "name": "python",
   "nbconvert_exporter": "python",
   "pygments_lexer": "ipython3",
   "version": "3.9.12"
  }
 },
 "nbformat": 4,
 "nbformat_minor": 4
}
